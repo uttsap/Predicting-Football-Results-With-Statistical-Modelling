{
 "cells": [
  {
   "cell_type": "code",
   "execution_count": 32,
   "metadata": {},
   "outputs": [
    {
     "data": {
      "text/html": [
       "<div>\n",
       "<style scoped>\n",
       "    .dataframe tbody tr th:only-of-type {\n",
       "        vertical-align: middle;\n",
       "    }\n",
       "\n",
       "    .dataframe tbody tr th {\n",
       "        vertical-align: top;\n",
       "    }\n",
       "\n",
       "    .dataframe thead th {\n",
       "        text-align: right;\n",
       "    }\n",
       "</style>\n",
       "<table border=\"1\" class=\"dataframe\">\n",
       "  <thead>\n",
       "    <tr style=\"text-align: right;\">\n",
       "      <th></th>\n",
       "      <th>HomeTeam</th>\n",
       "      <th>AwayTeam</th>\n",
       "      <th>HomeGoals</th>\n",
       "      <th>AwayGoals</th>\n",
       "    </tr>\n",
       "  </thead>\n",
       "  <tbody>\n",
       "    <tr>\n",
       "      <th>0</th>\n",
       "      <td>Leganes</td>\n",
       "      <td>Alaves</td>\n",
       "      <td>1</td>\n",
       "      <td>0</td>\n",
       "    </tr>\n",
       "    <tr>\n",
       "      <th>1</th>\n",
       "      <td>Valencia</td>\n",
       "      <td>Las Palmas</td>\n",
       "      <td>1</td>\n",
       "      <td>0</td>\n",
       "    </tr>\n",
       "    <tr>\n",
       "      <th>2</th>\n",
       "      <td>Celta</td>\n",
       "      <td>Sociedad</td>\n",
       "      <td>2</td>\n",
       "      <td>3</td>\n",
       "    </tr>\n",
       "    <tr>\n",
       "      <th>3</th>\n",
       "      <td>Girona</td>\n",
       "      <td>Ath Madrid</td>\n",
       "      <td>2</td>\n",
       "      <td>2</td>\n",
       "    </tr>\n",
       "    <tr>\n",
       "      <th>4</th>\n",
       "      <td>Sevilla</td>\n",
       "      <td>Espanol</td>\n",
       "      <td>1</td>\n",
       "      <td>1</td>\n",
       "    </tr>\n",
       "  </tbody>\n",
       "</table>\n",
       "</div>"
      ],
      "text/plain": [
       "   HomeTeam    AwayTeam  HomeGoals  AwayGoals\n",
       "0   Leganes      Alaves          1          0\n",
       "1  Valencia  Las Palmas          1          0\n",
       "2     Celta    Sociedad          2          3\n",
       "3    Girona  Ath Madrid          2          2\n",
       "4   Sevilla     Espanol          1          1"
      ]
     },
     "execution_count": 32,
     "metadata": {},
     "output_type": "execute_result"
    }
   ],
   "source": [
    "import pandas as pd\n",
    "import matplotlib.pyplot as plt\n",
    "import numpy as np\n",
    "import seaborn\n",
    "from scipy.stats import poisson,skellam\n",
    "\n",
    "la_1718 = pd.read_csv(\"http://www.football-data.co.uk/mmz4281/1718/SP1.csv\")\n",
    "la_1718 = la_1718[['HomeTeam','AwayTeam','FTHG','FTAG']]\n",
    "la_1718 = la_1718.rename(columns={'FTHG': 'HomeGoals', 'FTAG': 'AwayGoals'})\n",
    "la_1718.head()"
   ]
  },
  {
   "cell_type": "code",
   "execution_count": 33,
   "metadata": {},
   "outputs": [
    {
     "data": {
      "text/plain": [
       "HomeGoals    1.545946\n",
       "AwayGoals    1.143243\n",
       "dtype: float64"
      ]
     },
     "execution_count": 33,
     "metadata": {},
     "output_type": "execute_result"
    }
   ],
   "source": [
    "la_1718 = la_1718[:-10]\n",
    "la_1718.mean()"
   ]
  },
  {
   "cell_type": "code",
   "execution_count": 34,
   "metadata": {},
   "outputs": [
    {
     "data": {
      "text/plain": [
       "0.25271267697313393"
      ]
     },
     "execution_count": 34,
     "metadata": {},
     "output_type": "execute_result"
    }
   ],
   "source": [
    "# probability of draw between home and away team\n",
    "skellam.pmf(0.0,  la_1718.mean()[0],  la_1718.mean()[1])"
   ]
  },
  {
   "cell_type": "code",
   "execution_count": 35,
   "metadata": {},
   "outputs": [
    {
     "data": {
      "text/plain": [
       "0.22957890007599666"
      ]
     },
     "execution_count": 35,
     "metadata": {},
     "output_type": "execute_result"
    }
   ],
   "source": [
    "# probability of home team winning by one goal\n",
    "skellam.pmf(1,  la_1718.mean()[0],  la_1718.mean()[1])"
   ]
  },
  {
   "cell_type": "code",
   "execution_count": 36,
   "metadata": {},
   "outputs": [
    {
     "data": {
      "text/html": [
       "<table class=\"simpletable\">\n",
       "<caption>Generalized Linear Model Regression Results</caption>\n",
       "<tr>\n",
       "  <th>Dep. Variable:</th>        <td>goals</td>      <th>  No. Observations:  </th>  <td>   740</td>  \n",
       "</tr>\n",
       "<tr>\n",
       "  <th>Model:</th>                 <td>GLM</td>       <th>  Df Residuals:      </th>  <td>   700</td>  \n",
       "</tr>\n",
       "<tr>\n",
       "  <th>Model Family:</th>        <td>Poisson</td>     <th>  Df Model:          </th>  <td>    39</td>  \n",
       "</tr>\n",
       "<tr>\n",
       "  <th>Link Function:</th>         <td>log</td>       <th>  Scale:             </th> <td>  1.0000</td> \n",
       "</tr>\n",
       "<tr>\n",
       "  <th>Method:</th>               <td>IRLS</td>       <th>  Log-Likelihood:    </th> <td> -1033.1</td> \n",
       "</tr>\n",
       "<tr>\n",
       "  <th>Date:</th>           <td>Thu, 06 Sep 2018</td> <th>  Deviance:          </th> <td>  801.94</td> \n",
       "</tr>\n",
       "<tr>\n",
       "  <th>Time:</th>               <td>21:05:46</td>     <th>  Pearson chi2:      </th>  <td>  708.</td>  \n",
       "</tr>\n",
       "<tr>\n",
       "  <th>No. Iterations:</th>         <td>5</td>        <th>  Covariance Type:   </th> <td>nonrobust</td>\n",
       "</tr>\n",
       "</table>\n",
       "<table class=\"simpletable\">\n",
       "<tr>\n",
       "             <td></td>                <th>coef</th>     <th>std err</th>      <th>z</th>      <th>P>|z|</th>  <th>[0.025</th>    <th>0.975]</th>  \n",
       "</tr>\n",
       "<tr>\n",
       "  <th>Intercept</th>               <td>   -0.1090</td> <td>    0.219</td> <td>   -0.498</td> <td> 0.619</td> <td>   -0.538</td> <td>    0.320</td>\n",
       "</tr>\n",
       "<tr>\n",
       "  <th>team[T.Ath Bilbao]</th>      <td>    0.0223</td> <td>    0.223</td> <td>    0.100</td> <td> 0.920</td> <td>   -0.414</td> <td>    0.458</td>\n",
       "</tr>\n",
       "<tr>\n",
       "  <th>team[T.Ath Madrid]</th>      <td>    0.3091</td> <td>    0.207</td> <td>    1.491</td> <td> 0.136</td> <td>   -0.097</td> <td>    0.715</td>\n",
       "</tr>\n",
       "<tr>\n",
       "  <th>team[T.Barcelona]</th>       <td>    0.8884</td> <td>    0.188</td> <td>    4.726</td> <td> 0.000</td> <td>    0.520</td> <td>    1.257</td>\n",
       "</tr>\n",
       "<tr>\n",
       "  <th>team[T.Betis]</th>           <td>    0.3775</td> <td>    0.206</td> <td>    1.834</td> <td> 0.067</td> <td>   -0.026</td> <td>    0.781</td>\n",
       "</tr>\n",
       "<tr>\n",
       "  <th>team[T.Celta]</th>           <td>    0.3360</td> <td>    0.208</td> <td>    1.614</td> <td> 0.107</td> <td>   -0.072</td> <td>    0.744</td>\n",
       "</tr>\n",
       "<tr>\n",
       "  <th>team[T.Eibar]</th>           <td>    0.0309</td> <td>    0.221</td> <td>    0.139</td> <td> 0.889</td> <td>   -0.403</td> <td>    0.464</td>\n",
       "</tr>\n",
       "<tr>\n",
       "  <th>team[T.Espanol]</th>         <td>   -0.1463</td> <td>    0.232</td> <td>   -0.631</td> <td> 0.528</td> <td>   -0.600</td> <td>    0.308</td>\n",
       "</tr>\n",
       "<tr>\n",
       "  <th>team[T.Getafe]</th>          <td>    0.0073</td> <td>    0.223</td> <td>    0.033</td> <td> 0.974</td> <td>   -0.429</td> <td>    0.443</td>\n",
       "</tr>\n",
       "<tr>\n",
       "  <th>team[T.Girona]</th>          <td>    0.1974</td> <td>    0.214</td> <td>    0.921</td> <td> 0.357</td> <td>   -0.223</td> <td>    0.618</td>\n",
       "</tr>\n",
       "<tr>\n",
       "  <th>team[T.La Coruna]</th>       <td>   -0.0596</td> <td>    0.228</td> <td>   -0.261</td> <td> 0.794</td> <td>   -0.507</td> <td>    0.388</td>\n",
       "</tr>\n",
       "<tr>\n",
       "  <th>team[T.Las Palmas]</th>      <td>   -0.5207</td> <td>    0.262</td> <td>   -1.987</td> <td> 0.047</td> <td>   -1.034</td> <td>   -0.007</td>\n",
       "</tr>\n",
       "<tr>\n",
       "  <th>team[T.Leganes]</th>         <td>   -0.2457</td> <td>    0.240</td> <td>   -1.025</td> <td> 0.305</td> <td>   -0.715</td> <td>    0.224</td>\n",
       "</tr>\n",
       "<tr>\n",
       "  <th>team[T.Levante]</th>         <td>    0.0548</td> <td>    0.221</td> <td>    0.248</td> <td> 0.804</td> <td>   -0.379</td> <td>    0.489</td>\n",
       "</tr>\n",
       "<tr>\n",
       "  <th>team[T.Malaga]</th>          <td>   -0.5071</td> <td>    0.258</td> <td>   -1.962</td> <td> 0.050</td> <td>   -1.014</td> <td>   -0.000</td>\n",
       "</tr>\n",
       "<tr>\n",
       "  <th>team[T.Real Madrid]</th>     <td>    0.8244</td> <td>    0.190</td> <td>    4.345</td> <td> 0.000</td> <td>    0.452</td> <td>    1.196</td>\n",
       "</tr>\n",
       "<tr>\n",
       "  <th>team[T.Sevilla]</th>         <td>    0.1959</td> <td>    0.214</td> <td>    0.915</td> <td> 0.360</td> <td>   -0.224</td> <td>    0.616</td>\n",
       "</tr>\n",
       "<tr>\n",
       "  <th>team[T.Sociedad]</th>        <td>    0.5020</td> <td>    0.201</td> <td>    2.501</td> <td> 0.012</td> <td>    0.109</td> <td>    0.896</td>\n",
       "</tr>\n",
       "<tr>\n",
       "  <th>team[T.Valencia]</th>        <td>    0.4616</td> <td>    0.203</td> <td>    2.279</td> <td> 0.023</td> <td>    0.065</td> <td>    0.859</td>\n",
       "</tr>\n",
       "<tr>\n",
       "  <th>team[T.Villarreal]</th>      <td>    0.3201</td> <td>    0.208</td> <td>    1.538</td> <td> 0.124</td> <td>   -0.088</td> <td>    0.728</td>\n",
       "</tr>\n",
       "<tr>\n",
       "  <th>opponent[T.Ath Bilbao]</th>  <td>   -0.0340</td> <td>    0.203</td> <td>   -0.167</td> <td> 0.867</td> <td>   -0.433</td> <td>    0.365</td>\n",
       "</tr>\n",
       "<tr>\n",
       "  <th>opponent[T.Ath Madrid]</th>  <td>   -0.8918</td> <td>    0.266</td> <td>   -3.358</td> <td> 0.001</td> <td>   -1.412</td> <td>   -0.371</td>\n",
       "</tr>\n",
       "<tr>\n",
       "  <th>opponent[T.Barcelona]</th>   <td>   -0.4608</td> <td>    0.235</td> <td>   -1.963</td> <td> 0.050</td> <td>   -0.921</td> <td>   -0.001</td>\n",
       "</tr>\n",
       "<tr>\n",
       "  <th>opponent[T.Betis]</th>       <td>    0.1777</td> <td>    0.194</td> <td>    0.914</td> <td> 0.361</td> <td>   -0.203</td> <td>    0.559</td>\n",
       "</tr>\n",
       "<tr>\n",
       "  <th>opponent[T.Celta]</th>       <td>    0.1750</td> <td>    0.194</td> <td>    0.900</td> <td> 0.368</td> <td>   -0.206</td> <td>    0.556</td>\n",
       "</tr>\n",
       "<tr>\n",
       "  <th>opponent[T.Eibar]</th>       <td>   -0.0156</td> <td>    0.203</td> <td>   -0.077</td> <td> 0.939</td> <td>   -0.414</td> <td>    0.383</td>\n",
       "</tr>\n",
       "<tr>\n",
       "  <th>opponent[T.Espanol]</th>     <td>   -0.1648</td> <td>    0.211</td> <td>   -0.783</td> <td> 0.434</td> <td>   -0.577</td> <td>    0.248</td>\n",
       "</tr>\n",
       "<tr>\n",
       "  <th>opponent[T.Getafe]</th>      <td>   -0.4101</td> <td>    0.225</td> <td>   -1.819</td> <td> 0.069</td> <td>   -0.852</td> <td>    0.032</td>\n",
       "</tr>\n",
       "<tr>\n",
       "  <th>opponent[T.Girona]</th>      <td>    0.1626</td> <td>    0.194</td> <td>    0.837</td> <td> 0.403</td> <td>   -0.218</td> <td>    0.544</td>\n",
       "</tr>\n",
       "<tr>\n",
       "  <th>opponent[T.La Coruna]</th>   <td>    0.4190</td> <td>    0.185</td> <td>    2.270</td> <td> 0.023</td> <td>    0.057</td> <td>    0.781</td>\n",
       "</tr>\n",
       "<tr>\n",
       "  <th>opponent[T.Las Palmas]</th>  <td>    0.3597</td> <td>    0.185</td> <td>    1.940</td> <td> 0.052</td> <td>   -0.004</td> <td>    0.723</td>\n",
       "</tr>\n",
       "<tr>\n",
       "  <th>opponent[T.Leganes]</th>     <td>   -0.0128</td> <td>    0.202</td> <td>   -0.063</td> <td> 0.949</td> <td>   -0.409</td> <td>    0.384</td>\n",
       "</tr>\n",
       "<tr>\n",
       "  <th>opponent[T.Levante]</th>     <td>    0.1042</td> <td>    0.198</td> <td>    0.527</td> <td> 0.598</td> <td>   -0.283</td> <td>    0.492</td>\n",
       "</tr>\n",
       "<tr>\n",
       "  <th>opponent[T.Malaga]</th>      <td>    0.1740</td> <td>    0.193</td> <td>    0.902</td> <td> 0.367</td> <td>   -0.204</td> <td>    0.552</td>\n",
       "</tr>\n",
       "<tr>\n",
       "  <th>opponent[T.Real Madrid]</th> <td>   -0.0931</td> <td>    0.211</td> <td>   -0.442</td> <td> 0.659</td> <td>   -0.506</td> <td>    0.320</td>\n",
       "</tr>\n",
       "<tr>\n",
       "  <th>opponent[T.Sevilla]</th>     <td>    0.1661</td> <td>    0.194</td> <td>    0.855</td> <td> 0.392</td> <td>   -0.214</td> <td>    0.546</td>\n",
       "</tr>\n",
       "<tr>\n",
       "  <th>opponent[T.Sociedad]</th>    <td>    0.2287</td> <td>    0.195</td> <td>    1.176</td> <td> 0.240</td> <td>   -0.153</td> <td>    0.610</td>\n",
       "</tr>\n",
       "<tr>\n",
       "  <th>opponent[T.Valencia]</th>    <td>   -0.2685</td> <td>    0.218</td> <td>   -1.231</td> <td> 0.218</td> <td>   -0.696</td> <td>    0.159</td>\n",
       "</tr>\n",
       "<tr>\n",
       "  <th>opponent[T.Villarreal]</th>  <td>    0.0076</td> <td>    0.203</td> <td>    0.037</td> <td> 0.970</td> <td>   -0.391</td> <td>    0.406</td>\n",
       "</tr>\n",
       "<tr>\n",
       "  <th>home</th>                    <td>    0.3051</td> <td>    0.064</td> <td>    4.755</td> <td> 0.000</td> <td>    0.179</td> <td>    0.431</td>\n",
       "</tr>\n",
       "</table>"
      ],
      "text/plain": [
       "<class 'statsmodels.iolib.summary.Summary'>\n",
       "\"\"\"\n",
       "                 Generalized Linear Model Regression Results                  \n",
       "==============================================================================\n",
       "Dep. Variable:                  goals   No. Observations:                  740\n",
       "Model:                            GLM   Df Residuals:                      700\n",
       "Model Family:                 Poisson   Df Model:                           39\n",
       "Link Function:                    log   Scale:                          1.0000\n",
       "Method:                          IRLS   Log-Likelihood:                -1033.1\n",
       "Date:                Thu, 06 Sep 2018   Deviance:                       801.94\n",
       "Time:                        21:05:46   Pearson chi2:                     708.\n",
       "No. Iterations:                     5   Covariance Type:             nonrobust\n",
       "===========================================================================================\n",
       "                              coef    std err          z      P>|z|      [0.025      0.975]\n",
       "-------------------------------------------------------------------------------------------\n",
       "Intercept                  -0.1090      0.219     -0.498      0.619      -0.538       0.320\n",
       "team[T.Ath Bilbao]          0.0223      0.223      0.100      0.920      -0.414       0.458\n",
       "team[T.Ath Madrid]          0.3091      0.207      1.491      0.136      -0.097       0.715\n",
       "team[T.Barcelona]           0.8884      0.188      4.726      0.000       0.520       1.257\n",
       "team[T.Betis]               0.3775      0.206      1.834      0.067      -0.026       0.781\n",
       "team[T.Celta]               0.3360      0.208      1.614      0.107      -0.072       0.744\n",
       "team[T.Eibar]               0.0309      0.221      0.139      0.889      -0.403       0.464\n",
       "team[T.Espanol]            -0.1463      0.232     -0.631      0.528      -0.600       0.308\n",
       "team[T.Getafe]              0.0073      0.223      0.033      0.974      -0.429       0.443\n",
       "team[T.Girona]              0.1974      0.214      0.921      0.357      -0.223       0.618\n",
       "team[T.La Coruna]          -0.0596      0.228     -0.261      0.794      -0.507       0.388\n",
       "team[T.Las Palmas]         -0.5207      0.262     -1.987      0.047      -1.034      -0.007\n",
       "team[T.Leganes]            -0.2457      0.240     -1.025      0.305      -0.715       0.224\n",
       "team[T.Levante]             0.0548      0.221      0.248      0.804      -0.379       0.489\n",
       "team[T.Malaga]             -0.5071      0.258     -1.962      0.050      -1.014      -0.000\n",
       "team[T.Real Madrid]         0.8244      0.190      4.345      0.000       0.452       1.196\n",
       "team[T.Sevilla]             0.1959      0.214      0.915      0.360      -0.224       0.616\n",
       "team[T.Sociedad]            0.5020      0.201      2.501      0.012       0.109       0.896\n",
       "team[T.Valencia]            0.4616      0.203      2.279      0.023       0.065       0.859\n",
       "team[T.Villarreal]          0.3201      0.208      1.538      0.124      -0.088       0.728\n",
       "opponent[T.Ath Bilbao]     -0.0340      0.203     -0.167      0.867      -0.433       0.365\n",
       "opponent[T.Ath Madrid]     -0.8918      0.266     -3.358      0.001      -1.412      -0.371\n",
       "opponent[T.Barcelona]      -0.4608      0.235     -1.963      0.050      -0.921      -0.001\n",
       "opponent[T.Betis]           0.1777      0.194      0.914      0.361      -0.203       0.559\n",
       "opponent[T.Celta]           0.1750      0.194      0.900      0.368      -0.206       0.556\n",
       "opponent[T.Eibar]          -0.0156      0.203     -0.077      0.939      -0.414       0.383\n",
       "opponent[T.Espanol]        -0.1648      0.211     -0.783      0.434      -0.577       0.248\n",
       "opponent[T.Getafe]         -0.4101      0.225     -1.819      0.069      -0.852       0.032\n",
       "opponent[T.Girona]          0.1626      0.194      0.837      0.403      -0.218       0.544\n",
       "opponent[T.La Coruna]       0.4190      0.185      2.270      0.023       0.057       0.781\n",
       "opponent[T.Las Palmas]      0.3597      0.185      1.940      0.052      -0.004       0.723\n",
       "opponent[T.Leganes]        -0.0128      0.202     -0.063      0.949      -0.409       0.384\n",
       "opponent[T.Levante]         0.1042      0.198      0.527      0.598      -0.283       0.492\n",
       "opponent[T.Malaga]          0.1740      0.193      0.902      0.367      -0.204       0.552\n",
       "opponent[T.Real Madrid]    -0.0931      0.211     -0.442      0.659      -0.506       0.320\n",
       "opponent[T.Sevilla]         0.1661      0.194      0.855      0.392      -0.214       0.546\n",
       "opponent[T.Sociedad]        0.2287      0.195      1.176      0.240      -0.153       0.610\n",
       "opponent[T.Valencia]       -0.2685      0.218     -1.231      0.218      -0.696       0.159\n",
       "opponent[T.Villarreal]      0.0076      0.203      0.037      0.970      -0.391       0.406\n",
       "home                        0.3051      0.064      4.755      0.000       0.179       0.431\n",
       "===========================================================================================\n",
       "\"\"\""
      ]
     },
     "execution_count": 36,
     "metadata": {},
     "output_type": "execute_result"
    }
   ],
   "source": [
    "# importing the tools required for the Poisson regression model\n",
    "import statsmodels.api as sm\n",
    "import statsmodels.formula.api as smf\n",
    "\n",
    "goal_model_data = pd.concat([la_1718[['HomeTeam','AwayTeam','HomeGoals']].assign(home=1).rename(\n",
    "            columns={'HomeTeam':'team', 'AwayTeam':'opponent','HomeGoals':'goals'}),\n",
    "           la_1718[['AwayTeam','HomeTeam','AwayGoals']].assign(home=0).rename(\n",
    "            columns={'AwayTeam':'team', 'HomeTeam':'opponent','AwayGoals':'goals'})])\n",
    "\n",
    "poisson_model = smf.glm(formula=\"goals ~ home + team + opponent\", data=goal_model_data, \n",
    "                        family=sm.families.Poisson()).fit()\n",
    "poisson_model.summary()"
   ]
  },
  {
   "cell_type": "code",
   "execution_count": 37,
   "metadata": {},
   "outputs": [
    {
     "data": {
      "text/plain": [
       "1    1.750265\n",
       "dtype: float64"
      ]
     },
     "execution_count": 37,
     "metadata": {},
     "output_type": "execute_result"
    }
   ],
   "source": [
    "poisson_model.predict(pd.DataFrame(data={'team': 'Real Madrid', 'opponent': 'Barcelona',\n",
    "                                       'home':1},index=[1]))"
   ]
  },
  {
   "cell_type": "code",
   "execution_count": 38,
   "metadata": {},
   "outputs": [
    {
     "data": {
      "text/plain": [
       "1    1.986352\n",
       "dtype: float64"
      ]
     },
     "execution_count": 38,
     "metadata": {},
     "output_type": "execute_result"
    }
   ],
   "source": [
    "poisson_model.predict(pd.DataFrame(data={'team': 'Barcelona', 'opponent': 'Real Madrid',\n",
    "                                       'home':0},index=[1]))"
   ]
  },
  {
   "cell_type": "code",
   "execution_count": 39,
   "metadata": {},
   "outputs": [
    {
     "data": {
      "text/plain": [
       "array([[0.02383462, 0.04734393, 0.04702085, 0.03113331],\n",
       "       [0.04171689, 0.08286441, 0.08229893, 0.05449154],\n",
       "       [0.03650779, 0.07251732, 0.07202245, 0.0476873 ],\n",
       "       [0.02129943, 0.04230816, 0.04201945, 0.0278218 ]])"
      ]
     },
     "execution_count": 39,
     "metadata": {},
     "output_type": "execute_result"
    }
   ],
   "source": [
    "def simulate_match(foot_model, homeTeam, awayTeam, max_goals=10):\n",
    "    home_goals_avg = foot_model.predict(pd.DataFrame(data={'team': homeTeam, \n",
    "                                                            'opponent': awayTeam,'home':1},\n",
    "                                                      index=[1])).values[0]\n",
    "    away_goals_avg = foot_model.predict(pd.DataFrame(data={'team': awayTeam, \n",
    "                                                            'opponent': homeTeam,'home':0},\n",
    "                                                      index=[1])).values[0]\n",
    "    team_pred = [[poisson.pmf(i, team_avg) for i in range(0, max_goals+1)] for team_avg in [home_goals_avg, away_goals_avg]]\n",
    "    return(np.outer(np.array(team_pred[0]), np.array(team_pred[1])))\n",
    "simulate_match(poisson_model, 'Real Madrid', 'Barcelona', max_goals=3)"
   ]
  },
  {
   "cell_type": "code",
   "execution_count": 42,
   "metadata": {},
   "outputs": [
    {
     "data": {
      "text/plain": [
       "0.34633642333745596"
      ]
     },
     "execution_count": 42,
     "metadata": {},
     "output_type": "execute_result"
    }
   ],
   "source": [
    "rm_bar = simulate_match(poisson_model, \"Real Madrid\", \"Barcelona\", max_goals=10)\n",
    "# rm win\n",
    "np.sum(np.tril(rm_bar, -1))"
   ]
  },
  {
   "cell_type": "code",
   "execution_count": 43,
   "metadata": {},
   "outputs": [
    {
     "data": {
      "text/plain": [
       "0.21351665721610408"
      ]
     },
     "execution_count": 43,
     "metadata": {},
     "output_type": "execute_result"
    }
   ],
   "source": [
    "# draw\n",
    "np.sum(np.diag(rm_bar))"
   ]
  },
  {
   "cell_type": "code",
   "execution_count": 45,
   "metadata": {},
   "outputs": [
    {
     "data": {
      "text/plain": [
       "0.44013671742730287"
      ]
     },
     "execution_count": 45,
     "metadata": {},
     "output_type": "execute_result"
    }
   ],
   "source": [
    "# barcelona win\n",
    "np.sum(np.triu(rm_bar, 1))"
   ]
  },
  {
   "cell_type": "code",
   "execution_count": null,
   "metadata": {},
   "outputs": [],
   "source": []
  }
 ],
 "metadata": {
  "kernelspec": {
   "display_name": "Python 3",
   "language": "python",
   "name": "python3"
  },
  "language_info": {
   "codemirror_mode": {
    "name": "ipython",
    "version": 3
   },
   "file_extension": ".py",
   "mimetype": "text/x-python",
   "name": "python",
   "nbconvert_exporter": "python",
   "pygments_lexer": "ipython3",
   "version": "3.6.5"
  }
 },
 "nbformat": 4,
 "nbformat_minor": 2
}
